{
  "nbformat": 4,
  "nbformat_minor": 0,
  "metadata": {
    "colab": {
      "name": "Amazon ML Hack.ipynb",
      "provenance": [],
      "collapsed_sections": []
    },
    "kernelspec": {
      "name": "python3",
      "display_name": "Python 3"
    },
    "language_info": {
      "name": "python"
    }
  },
  "cells": [
    {
      "cell_type": "markdown",
      "metadata": {
        "id": "YHPGAbcq5lbz"
      },
      "source": [
        "# Amazon ML Hack\n",
        "\n",
        "Team: rokos-basilisk"
      ]
    },
    {
      "cell_type": "code",
      "metadata": {
        "id": "U1xI4bWn7PVy",
        "colab": {
          "base_uri": "https://localhost:8080/"
        },
        "outputId": "ece445c2-97c0-4eb3-97a0-4f49293665ab"
      },
      "source": [
        "# init and imports\n",
        "import pandas as pd\n",
        "import numpy as np\n",
        "import matplotlib.pyplot as plt\n",
        "import seaborn as sns\n",
        "import csv\n",
        "\n",
        "import nltk\n",
        "nltk.download('punkt')\n",
        "nltk.download('stopwords')"
      ],
      "execution_count": null,
      "outputs": [
        {
          "output_type": "stream",
          "text": [
            "[nltk_data] Downloading package punkt to /root/nltk_data...\n",
            "[nltk_data]   Unzipping tokenizers/punkt.zip.\n",
            "[nltk_data] Downloading package stopwords to /root/nltk_data...\n",
            "[nltk_data]   Unzipping corpora/stopwords.zip.\n"
          ],
          "name": "stdout"
        },
        {
          "output_type": "execute_result",
          "data": {
            "text/plain": [
              "True"
            ]
          },
          "metadata": {
            "tags": []
          },
          "execution_count": 1
        }
      ]
    },
    {
      "cell_type": "markdown",
      "metadata": {
        "id": "wWddFCVi5uaC"
      },
      "source": [
        "## 1. Dataset"
      ]
    },
    {
      "cell_type": "code",
      "metadata": {
        "colab": {
          "base_uri": "https://localhost:8080/"
        },
        "id": "RYZxtFrW6JzA",
        "outputId": "8d9c6694-1f0e-4a5d-fc40-9c93abfb0534"
      },
      "source": [
        "!wget https://s3-ap-southeast-1.amazonaws.com/he-public-data/dataset52a7b21.zip"
      ],
      "execution_count": null,
      "outputs": [
        {
          "output_type": "stream",
          "text": [
            "--2021-07-30 16:56:28--  https://s3-ap-southeast-1.amazonaws.com/he-public-data/dataset52a7b21.zip\n",
            "Resolving s3-ap-southeast-1.amazonaws.com (s3-ap-southeast-1.amazonaws.com)... 52.219.124.234\n",
            "Connecting to s3-ap-southeast-1.amazonaws.com (s3-ap-southeast-1.amazonaws.com)|52.219.124.234|:443... connected.\n",
            "HTTP request sent, awaiting response... 200 OK\n",
            "Length: 1061576029 (1012M) [binary/octet-stream]\n",
            "Saving to: ‘dataset52a7b21.zip.1’\n",
            "\n",
            "dataset52a7b21.zip. 100%[===================>]   1012M  12.4MB/s    in 86s     \n",
            "\n",
            "2021-07-30 16:57:56 (11.7 MB/s) - ‘dataset52a7b21.zip.1’ saved [1061576029/1061576029]\n",
            "\n"
          ],
          "name": "stdout"
        }
      ]
    },
    {
      "cell_type": "code",
      "metadata": {
        "colab": {
          "base_uri": "https://localhost:8080/"
        },
        "id": "Wf6vORmP6POf",
        "outputId": "12f44321-5096-4e72-f972-daea551e6767"
      },
      "source": [
        "!unzip dataset52a7b21.zip"
      ],
      "execution_count": null,
      "outputs": [
        {
          "output_type": "stream",
          "text": [
            "Archive:  dataset52a7b21.zip\n",
            "replace dataset/train.csv? [y]es, [n]o, [A]ll, [N]one, [r]ename: "
          ],
          "name": "stdout"
        }
      ]
    },
    {
      "cell_type": "markdown",
      "metadata": {
        "id": "6cmsZ4Wr7GQ5"
      },
      "source": [
        "## 1.1 Loading the data"
      ]
    },
    {
      "cell_type": "code",
      "metadata": {
        "id": "lL1Y4DA-6uQS"
      },
      "source": [
        "\n",
        "full_df = pd.read_csv('dataset/train.csv', escapechar = \"\\\\\", quoting = csv.QUOTE_NONE, encoding='utf-8')\n",
        "df = full_df.sample(5000)"
      ],
      "execution_count": null,
      "outputs": []
    },
    {
      "cell_type": "code",
      "metadata": {
        "id": "KHO9VbqPZngQ"
      },
      "source": [
        "df = df.reset_index(drop=True)"
      ],
      "execution_count": null,
      "outputs": []
    },
    {
      "cell_type": "code",
      "metadata": {
        "id": "LffMGfKU8tMx"
      },
      "source": [
        "df.fillna(\"\", inplace=True)"
      ],
      "execution_count": null,
      "outputs": []
    },
    {
      "cell_type": "markdown",
      "metadata": {
        "id": "LoJ4BZkVMO-a"
      },
      "source": [
        "## NLP Experiments"
      ]
    },
    {
      "cell_type": "code",
      "metadata": {
        "colab": {
          "base_uri": "https://localhost:8080/",
          "height": 597
        },
        "id": "SI8b3psqSDX9",
        "outputId": "79ee05d5-3ef2-4056-afe2-ccf4193ac00e"
      },
      "source": [
        "df"
      ],
      "execution_count": null,
      "outputs": [
        {
          "output_type": "execute_result",
          "data": {
            "text/html": [
              "<div>\n",
              "<style scoped>\n",
              "    .dataframe tbody tr th:only-of-type {\n",
              "        vertical-align: middle;\n",
              "    }\n",
              "\n",
              "    .dataframe tbody tr th {\n",
              "        vertical-align: top;\n",
              "    }\n",
              "\n",
              "    .dataframe thead th {\n",
              "        text-align: right;\n",
              "    }\n",
              "</style>\n",
              "<table border=\"1\" class=\"dataframe\">\n",
              "  <thead>\n",
              "    <tr style=\"text-align: right;\">\n",
              "      <th></th>\n",
              "      <th>TITLE</th>\n",
              "      <th>DESCRIPTION</th>\n",
              "      <th>BULLET_POINTS</th>\n",
              "      <th>BRAND</th>\n",
              "      <th>BROWSE_NODE_ID</th>\n",
              "    </tr>\n",
              "  </thead>\n",
              "  <tbody>\n",
              "    <tr>\n",
              "      <th>844289</th>\n",
              "      <td>Di Grazia Women’s Butterfly Backpack Handbag (...</td>\n",
              "      <td>Di Grazia Handbags is an exclusive line of Pre...</td>\n",
              "      <td>[Material - PU Leather,Dimension - 28*24*16 cm...</td>\n",
              "      <td>Di Grazia</td>\n",
              "      <td>19247</td>\n",
              "    </tr>\n",
              "    <tr>\n",
              "      <th>1780577</th>\n",
              "      <td>Levi's Men's Slim Fit Casual Trousers (84416-0...</td>\n",
              "      <td></td>\n",
              "      <td>[Color: Black,Material: Cotton,Pattern: Plain,...</td>\n",
              "      <td>Levi's</td>\n",
              "      <td>1017</td>\n",
              "    </tr>\n",
              "    <tr>\n",
              "      <th>2229499</th>\n",
              "      <td>Humor Gang Printed Back Cover for Huawei Nova ...</td>\n",
              "      <td>Super durable and amazing looking phone Cases ...</td>\n",
              "      <td>[Stand Out in Crowd with Exclusively Designed ...</td>\n",
              "      <td>Humor Gang</td>\n",
              "      <td>1045</td>\n",
              "    </tr>\n",
              "    <tr>\n",
              "      <th>1552849</th>\n",
              "      <td>Provizon OBJECTS21 Super King Size Double Bed ...</td>\n",
              "      <td>Mosquito net gives complete protection from mo...</td>\n",
              "      <td>[Color - White,Size - 7x7 ft,King Size Double ...</td>\n",
              "      <td>Provizon</td>\n",
              "      <td>677</td>\n",
              "    </tr>\n",
              "    <tr>\n",
              "      <th>31497</th>\n",
              "      <td>Second May Handmade Brown Colour Leather Diary...</td>\n",
              "      <td>Second May Bound handmade paper with Genuine L...</td>\n",
              "      <td>[Overall Length: 8 Inches, Width: 6.5 inch; Co...</td>\n",
              "      <td>Second May</td>\n",
              "      <td>1196</td>\n",
              "    </tr>\n",
              "    <tr>\n",
              "      <th>...</th>\n",
              "      <td>...</td>\n",
              "      <td>...</td>\n",
              "      <td>...</td>\n",
              "      <td>...</td>\n",
              "      <td>...</td>\n",
              "    </tr>\n",
              "    <tr>\n",
              "      <th>1076135</th>\n",
              "      <td>NOVICZ 12 Sets 100 ml. Kitchen Food Container ...</td>\n",
              "      <td></td>\n",
              "      <td>[Transparent design to identify the content in...</td>\n",
              "      <td>NOVICZ</td>\n",
              "      <td>840</td>\n",
              "    </tr>\n",
              "    <tr>\n",
              "      <th>1306181</th>\n",
              "      <td>U.S. Polo Assn. Girls Straight Red Casual Dres...</td>\n",
              "      <td>U.S. Polo Assn. Girls Striped Cotton Straight ...</td>\n",
              "      <td>[Pattern Type :: Striped,Fit Type :: Straight,...</td>\n",
              "      <td>US Polo Association</td>\n",
              "      <td>1687</td>\n",
              "    </tr>\n",
              "    <tr>\n",
              "      <th>494731</th>\n",
              "      <td>Nourish Organics Brown Rice Cookies, 150g</td>\n",
              "      <td></td>\n",
              "      <td>[Healthy eating for Urban living,Certified Org...</td>\n",
              "      <td>Nourish Organics</td>\n",
              "      <td>103877</td>\n",
              "    </tr>\n",
              "    <tr>\n",
              "      <th>2017811</th>\n",
              "      <td>Rv Enterprises Plastic Bag Sealing Clips, 18-P...</td>\n",
              "      <td>A set of 18 pieces (3 size x 6pc each) bag cli...</td>\n",
              "      <td>[The Sealing Clip Is Great For Keeping Leftove...</td>\n",
              "      <td>RV Enterprises</td>\n",
              "      <td>13966</td>\n",
              "    </tr>\n",
              "    <tr>\n",
              "      <th>2344557</th>\n",
              "      <td>Lifebuoy Total Soap Bar 125gm (Pack of 6)</td>\n",
              "      <td>It comes in a Pack of 6. It is gentle on hands.</td>\n",
              "      <td>[Quantity: 125 g,Pack of 6,Gentle on Hands]</td>\n",
              "      <td>Lifebuoy</td>\n",
              "      <td>86</td>\n",
              "    </tr>\n",
              "  </tbody>\n",
              "</table>\n",
              "<p>5000 rows × 5 columns</p>\n",
              "</div>"
            ],
            "text/plain": [
              "                                                     TITLE  ... BROWSE_NODE_ID\n",
              "844289   Di Grazia Women’s Butterfly Backpack Handbag (...  ...          19247\n",
              "1780577  Levi's Men's Slim Fit Casual Trousers (84416-0...  ...           1017\n",
              "2229499  Humor Gang Printed Back Cover for Huawei Nova ...  ...           1045\n",
              "1552849  Provizon OBJECTS21 Super King Size Double Bed ...  ...            677\n",
              "31497    Second May Handmade Brown Colour Leather Diary...  ...           1196\n",
              "...                                                    ...  ...            ...\n",
              "1076135  NOVICZ 12 Sets 100 ml. Kitchen Food Container ...  ...            840\n",
              "1306181  U.S. Polo Assn. Girls Straight Red Casual Dres...  ...           1687\n",
              "494731           Nourish Organics Brown Rice Cookies, 150g  ...         103877\n",
              "2017811  Rv Enterprises Plastic Bag Sealing Clips, 18-P...  ...          13966\n",
              "2344557          Lifebuoy Total Soap Bar 125gm (Pack of 6)  ...             86\n",
              "\n",
              "[5000 rows x 5 columns]"
            ]
          },
          "metadata": {
            "tags": []
          },
          "execution_count": 6
        }
      ]
    },
    {
      "cell_type": "code",
      "metadata": {
        "id": "NJRFzG4aMTHx"
      },
      "source": [
        "\n",
        "def clean_text(text):\n",
        "    # split into words\n",
        "    from nltk.tokenize import word_tokenize\n",
        "    tokens = word_tokenize(text)\n",
        "\n",
        "    # convert to lower case\n",
        "    tokens = [w.lower() for w in tokens]\n",
        "    # remove punctuation from each word\n",
        "    import string\n",
        "    table = str.maketrans('', '', string.punctuation)\n",
        "    stripped = [w.translate(table) for w in tokens]\n",
        "    # remove remaining tokens that are not alphabetic\n",
        "    words = [word for word in stripped if word.isalpha()]\n",
        "    # filter out stop words\n",
        "    from nltk.corpus import stopwords\n",
        "    stop_words = set(stopwords.words('english'))\n",
        "\n",
        "    from nltk.stem.porter import PorterStemmer\n",
        "    porter = PorterStemmer()\n",
        "    stop_words = list(stop_words)\n",
        "    stop_words.extend(['use', 'etc', 'also', 'every', 'made'])\n",
        "    stemmed = [porter.stem(word) for word in stop_words]\n",
        "\n",
        "    words = set([w for w in words if not w in stop_words])\n",
        "\n",
        "    return words\n"
      ],
      "execution_count": null,
      "outputs": []
    },
    {
      "cell_type": "code",
      "metadata": {
        "id": "twzJeU1rPitN"
      },
      "source": [
        "df['description_keywords'] = df['DESCRIPTION'].apply(lambda x:clean_text(x))\n",
        "df['title_keywords'] = df['TITLE'].apply(lambda x:clean_text(x))"
      ],
      "execution_count": null,
      "outputs": []
    },
    {
      "cell_type": "code",
      "metadata": {
        "colab": {
          "base_uri": "https://localhost:8080/"
        },
        "id": "8OpMmyFzPqZ5",
        "outputId": "2617e9c2-78c9-48e5-888e-8f613b5354f6"
      },
      "source": [
        "print(df['title_keywords'].iloc[0])\n",
        "print(df['BRAND'].iloc[0])\n",
        "\n",
        "print(df['title_keywords'].iloc[1])\n",
        "print(df['BRAND'].iloc[1])\n",
        "\n",
        "# Aula-trainer\n",
        "# Aula-optical\n",
        "# Johy-trainer\n",
        "# Lolman-trainer\n",
        "\n",
        "# df.groupby(['BRAND'])['BRAND'].apply(list)\n",
        "\n",
        "# groupby trainer"
      ],
      "execution_count": null,
      "outputs": [
        {
          "output_type": "stream",
          "text": [
            "{'women', 'handbag', 'butterfly', 'backpack', 'di', 'white', 'grazia', 'whiteflowerssmallbackpack'}\n",
            "Di Grazia\n",
            "{'men', 'trousers', 'levi', 'slim', 'x', 'casual', 'fit'}\n",
            "Levi's\n"
          ],
          "name": "stdout"
        }
      ]
    },
    {
      "cell_type": "code",
      "metadata": {
        "colab": {
          "base_uri": "https://localhost:8080/"
        },
        "id": "NBKo9KW-QmUi",
        "outputId": "6d60abd5-a1c9-4d90-a8f1-cd7ce40d7a43"
      },
      "source": [
        "for row in df.iloc:\n",
        "    print(row)\n",
        "    # break"
      ],
      "execution_count": null,
      "outputs": [
        {
          "output_type": "stream",
          "text": [
            "TITLE                   (Renewed) Aula Enter Tainer SI-9007 Optical Mo...\n",
            "DESCRIPTION                                                              \n",
            "BULLET_POINTS           [This Amazon Renewed product will be in an unb...\n",
            "BRAND                                                                Aula\n",
            "BROWSE_NODE_ID                                                         98\n",
            "description_keywords                                                   {}\n",
            "title_keywords          {tainer, optical, renewed, mouse, enter, black...\n",
            "Name: 559177, dtype: object\n"
          ],
          "name": "stdout"
        }
      ]
    },
    {
      "cell_type": "code",
      "metadata": {
        "colab": {
          "base_uri": "https://localhost:8080/"
        },
        "id": "BfOmSvFSeSwx",
        "outputId": "9d0361f9-69f9-4a57-e184-1f8eb9583f57"
      },
      "source": [
        "sub_df[\"BROWSE_NODE_ID\"].values.tolist() * len(all_keywords)"
      ],
      "execution_count": null,
      "outputs": [
        {
          "output_type": "execute_result",
          "data": {
            "text/plain": [
              "[86, 86, 86, 86]"
            ]
          },
          "metadata": {
            "tags": []
          },
          "execution_count": 79
        }
      ]
    },
    {
      "cell_type": "code",
      "metadata": {
        "id": "livsUDwMggid"
      },
      "source": [
        ""
      ],
      "execution_count": null,
      "outputs": []
    },
    {
      "cell_type": "code",
      "metadata": {
        "id": "wcXnCbeXggaL"
      },
      "source": [
        "# adidas - 10, node - 1\n",
        "# reebok - 6, node - 1\n",
        "# reebok - 6, node - 2"
      ],
      "execution_count": null,
      "outputs": []
    },
    {
      "cell_type": "code",
      "metadata": {
        "id": "4wbGXXS3QxF0",
        "colab": {
          "base_uri": "https://localhost:8080/"
        },
        "outputId": "1e94c299-9117-4ce2-abee-1adc8f94827c"
      },
      "source": [
        "brands_dict = {\"brand\": [], \"keyword\": [], \"node\": []}\n",
        "\n",
        "for brand in df[\"BRAND\"].unique()[:10]:\n",
        "  sub_df = df[df[\"BRAND\"] == brand]\n",
        "  all_keywords = sub_df[\"description_keywords\"].values.flatten()[-1]\n",
        "  brands_dict[\"brand\"].extend([brand for _ in range(len(all_keywords))])\n",
        "  brands_dict[\"keyword\"].extend(list(all_keywords))\n",
        "  brands_dict[\"node\"].extend(sub_df[\"BROWSE_NODE_ID\"].values.tolist())\n",
        "  if len(brands_dict[\"brand\"]) != len(brands_dict[\"node\"]):\n",
        "    print(sub_df.shape)\n",
        "    print(sub_df[\"BROWSE_NODE_ID\"].values.tolist())\n",
        "  # print(brands_dict)\n",
        "  # break\n",
        "# brands = pd.DataFrame(brands_dict)"
      ],
      "execution_count": null,
      "outputs": [
        {
          "output_type": "stream",
          "text": [
            "(2, 7)\n",
            "[1045, 1045]\n",
            "(1, 7)\n",
            "[677]\n",
            "(1, 7)\n",
            "[1196]\n",
            "(3, 7)\n",
            "[9975, 4418, 1619]\n",
            "(1, 7)\n",
            "[3543]\n",
            "(2, 7)\n",
            "[2957, 2957]\n",
            "(2, 7)\n",
            "[7784, 7784]\n",
            "(2, 7)\n",
            "[424886, 709]\n"
          ],
          "name": "stdout"
        }
      ]
    },
    {
      "cell_type": "code",
      "metadata": {
        "colab": {
          "base_uri": "https://localhost:8080/"
        },
        "id": "i2mcf30Be7Ek",
        "outputId": "38ff1aeb-a002-489a-d80e-588eedea7f35"
      },
      "source": [
        "len(brands_dict[\"brand\"]) == len(brands_dict[\"node\"])"
      ],
      "execution_count": null,
      "outputs": [
        {
          "output_type": "execute_result",
          "data": {
            "text/plain": [
              "True"
            ]
          },
          "metadata": {
            "tags": []
          },
          "execution_count": 82
        }
      ]
    },
    {
      "cell_type": "code",
      "metadata": {
        "colab": {
          "base_uri": "https://localhost:8080/",
          "height": 206
        },
        "id": "WNkfGxw-aXrV",
        "outputId": "9eeaeea9-2753-464e-fb42-177fafa11692"
      },
      "source": [
        "brands.tail()"
      ],
      "execution_count": null,
      "outputs": [
        {
          "output_type": "execute_result",
          "data": {
            "text/html": [
              "<div>\n",
              "<style scoped>\n",
              "    .dataframe tbody tr th:only-of-type {\n",
              "        vertical-align: middle;\n",
              "    }\n",
              "\n",
              "    .dataframe tbody tr th {\n",
              "        vertical-align: top;\n",
              "    }\n",
              "\n",
              "    .dataframe thead th {\n",
              "        text-align: right;\n",
              "    }\n",
              "</style>\n",
              "<table border=\"1\" class=\"dataframe\">\n",
              "  <thead>\n",
              "    <tr style=\"text-align: right;\">\n",
              "      <th></th>\n",
              "      <th>brand</th>\n",
              "      <th>keyword</th>\n",
              "    </tr>\n",
              "  </thead>\n",
              "  <tbody>\n",
              "    <tr>\n",
              "      <th>131131</th>\n",
              "      <td>RV Enterprises</td>\n",
              "      <td>leftovers</td>\n",
              "    </tr>\n",
              "    <tr>\n",
              "      <th>131132</th>\n",
              "      <td>Lifebuoy</td>\n",
              "      <td>hands</td>\n",
              "    </tr>\n",
              "    <tr>\n",
              "      <th>131133</th>\n",
              "      <td>Lifebuoy</td>\n",
              "      <td>gentle</td>\n",
              "    </tr>\n",
              "    <tr>\n",
              "      <th>131134</th>\n",
              "      <td>Lifebuoy</td>\n",
              "      <td>pack</td>\n",
              "    </tr>\n",
              "    <tr>\n",
              "      <th>131135</th>\n",
              "      <td>Lifebuoy</td>\n",
              "      <td>comes</td>\n",
              "    </tr>\n",
              "  </tbody>\n",
              "</table>\n",
              "</div>"
            ],
            "text/plain": [
              "                 brand    keyword\n",
              "131131  RV Enterprises  leftovers\n",
              "131132        Lifebuoy      hands\n",
              "131133        Lifebuoy     gentle\n",
              "131134        Lifebuoy       pack\n",
              "131135        Lifebuoy      comes"
            ]
          },
          "metadata": {
            "tags": []
          },
          "execution_count": 34
        }
      ]
    },
    {
      "cell_type": "code",
      "metadata": {
        "id": "3_NMY3FDZF5g"
      },
      "source": [
        "keyword = brands.groupby([\"keyword\"])[\"brand\"].apply(list).to_frame()"
      ],
      "execution_count": null,
      "outputs": []
    },
    {
      "cell_type": "code",
      "metadata": {
        "id": "64Vpy0q1da91"
      },
      "source": [
        "keyword[\"id\"] = range(keyword.shape[0])"
      ],
      "execution_count": null,
      "outputs": []
    },
    {
      "cell_type": "code",
      "metadata": {
        "id": "RHr4w6XObHRY"
      },
      "source": [
        "keyword.reset_index(level=0, inplace=True)\n",
        "keyword = keyword[[\"keyword\", \"brand\"]]"
      ],
      "execution_count": null,
      "outputs": []
    },
    {
      "cell_type": "code",
      "metadata": {
        "colab": {
          "base_uri": "https://localhost:8080/",
          "height": 206
        },
        "id": "cTPTZ5XKbQ-z",
        "outputId": "699f82d4-8f02-426d-e76a-07501f5af794"
      },
      "source": [
        "keyword.head()"
      ],
      "execution_count": null,
      "outputs": [
        {
          "output_type": "execute_result",
          "data": {
            "text/html": [
              "<div>\n",
              "<style scoped>\n",
              "    .dataframe tbody tr th:only-of-type {\n",
              "        vertical-align: middle;\n",
              "    }\n",
              "\n",
              "    .dataframe tbody tr th {\n",
              "        vertical-align: top;\n",
              "    }\n",
              "\n",
              "    .dataframe thead th {\n",
              "        text-align: right;\n",
              "    }\n",
              "</style>\n",
              "<table border=\"1\" class=\"dataframe\">\n",
              "  <thead>\n",
              "    <tr style=\"text-align: right;\">\n",
              "      <th></th>\n",
              "      <th>keyword</th>\n",
              "      <th>brand</th>\n",
              "    </tr>\n",
              "  </thead>\n",
              "  <tbody>\n",
              "    <tr>\n",
              "      <th>0</th>\n",
              "      <td>aa</td>\n",
              "      <td>[Aldo, Fluke, Twiclo, Blue Panda, FAINLIST, BM...</td>\n",
              "    </tr>\n",
              "    <tr>\n",
              "      <th>1</th>\n",
              "      <td>aaa</td>\n",
              "      <td>[Vaurum, Sri Jagdamba Pearls Dealer, INGLIS LA...</td>\n",
              "    </tr>\n",
              "    <tr>\n",
              "      <th>2</th>\n",
              "      <td>aabattery</td>\n",
              "      <td>[NITPICK]</td>\n",
              "    </tr>\n",
              "    <tr>\n",
              "      <th>3</th>\n",
              "      <td>aac</td>\n",
              "      <td>[Everycom]</td>\n",
              "    </tr>\n",
              "    <tr>\n",
              "      <th>4</th>\n",
              "      <td>aaditri</td>\n",
              "      <td>[Aaditri Clothing]</td>\n",
              "    </tr>\n",
              "  </tbody>\n",
              "</table>\n",
              "</div>"
            ],
            "text/plain": [
              "     keyword                                              brand\n",
              "0         aa  [Aldo, Fluke, Twiclo, Blue Panda, FAINLIST, BM...\n",
              "1        aaa  [Vaurum, Sri Jagdamba Pearls Dealer, INGLIS LA...\n",
              "2  aabattery                                          [NITPICK]\n",
              "3        aac                                         [Everycom]\n",
              "4    aaditri                                 [Aaditri Clothing]"
            ]
          },
          "metadata": {
            "tags": []
          },
          "execution_count": 68
        }
      ]
    },
    {
      "cell_type": "code",
      "metadata": {
        "colab": {
          "base_uri": "https://localhost:8080/"
        },
        "id": "yXW7eCQoavPU",
        "outputId": "5c102fb4-76db-4120-b1d5-e56080cea8f6"
      },
      "source": [
        "keyword[keyword[\"keyword\"] == \"redmi\"][\"brand\"].values"
      ],
      "execution_count": null,
      "outputs": [
        {
          "output_type": "execute_result",
          "data": {
            "text/plain": [
              "array([list(['RGN', 'estuffz', 'Ragav Enterprise', 'Wolfman', 'A2Z Shop', 'chiraiyaa', 'CRodible Innovation', 'Beyouniq', 'Eglass', 'QRIOH'])],\n",
              "      dtype=object)"
            ]
          },
          "metadata": {
            "tags": []
          },
          "execution_count": 71
        }
      ]
    },
    {
      "cell_type": "code",
      "metadata": {
        "id": "hNil6df-d05c"
      },
      "source": [
        ""
      ],
      "execution_count": null,
      "outputs": []
    }
  ]
}