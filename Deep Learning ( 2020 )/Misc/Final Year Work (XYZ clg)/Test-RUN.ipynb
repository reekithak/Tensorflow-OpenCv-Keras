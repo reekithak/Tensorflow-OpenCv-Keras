{
 "cells": [
  {
   "cell_type": "code",
   "execution_count": 1,
   "id": "05e1721f",
   "metadata": {
    "ExecuteTime": {
     "end_time": "2021-06-07T17:41:01.065180Z",
     "start_time": "2021-06-07T17:40:48.865754Z"
    }
   },
   "outputs": [],
   "source": [
    "import numpy as np\n",
    "import pandas as pd\n",
    "import matplotlib.pyplot as plt\n",
    "import cv2\n",
    "import os\n",
    "from skimage import feature\n",
    " "
   ]
  },
  {
   "cell_type": "code",
   "execution_count": 2,
   "id": "198b51a1",
   "metadata": {
    "ExecuteTime": {
     "end_time": "2021-06-07T17:41:08.687212Z",
     "start_time": "2021-06-07T17:41:01.067188Z"
    }
   },
   "outputs": [],
   "source": [
    "from sklearn.metrics import confusion_matrix\n",
    "import itertools\n",
    " \n",
    "from keras.utils.np_utils import to_categorical \n",
    "from keras.models import Sequential\n",
    "from keras.layers import Dense, Dropout, Flatten, Conv2D, MaxPool2D\n",
    "from keras.optimizers import RMSprop,Adam\n",
    "from keras.preprocessing.image import ImageDataGenerator\n",
    "from keras.callbacks import ReduceLROnPlateau"
   ]
  },
  {
   "cell_type": "code",
   "execution_count": 39,
   "id": "c1f108c2",
   "metadata": {
    "ExecuteTime": {
     "end_time": "2021-06-07T17:56:45.813513Z",
     "start_time": "2021-06-07T17:56:45.800549Z"
    }
   },
   "outputs": [],
   "source": [
    "from keras.models import model_from_json\n",
    "from keras.models import load_model"
   ]
  },
  {
   "cell_type": "code",
   "execution_count": 40,
   "id": "541d2cdc",
   "metadata": {
    "ExecuteTime": {
     "end_time": "2021-06-07T17:56:46.318211Z",
     "start_time": "2021-06-07T17:56:46.100412Z"
    }
   },
   "outputs": [],
   "source": [
    "model = load_model(\"Models\\model_only.h5\")\n"
   ]
  },
  {
   "cell_type": "code",
   "execution_count": 41,
   "id": "8d917709",
   "metadata": {
    "ExecuteTime": {
     "end_time": "2021-06-07T17:56:46.570478Z",
     "start_time": "2021-06-07T17:56:46.538513Z"
    }
   },
   "outputs": [],
   "source": [
    "model.load_weights(\"Models\\model_only.hdf5\")"
   ]
  },
  {
   "cell_type": "code",
   "execution_count": 42,
   "id": "4f4b88bb",
   "metadata": {
    "ExecuteTime": {
     "end_time": "2021-06-07T17:56:47.205673Z",
     "start_time": "2021-06-07T17:56:47.194652Z"
    }
   },
   "outputs": [],
   "source": [
    "classes = ['glioma_tumor',\n",
    "         'meningioma_tumor',\n",
    "         'no_tumor',\n",
    "         'pituitary_tumor']"
   ]
  },
  {
   "cell_type": "code",
   "execution_count": 43,
   "id": "1f527f65",
   "metadata": {
    "ExecuteTime": {
     "end_time": "2021-06-07T17:56:47.727663Z",
     "start_time": "2021-06-07T17:56:47.715664Z"
    }
   },
   "outputs": [],
   "source": [
    "import tensorflow as tf\n",
    "from keras.preprocessing import image"
   ]
  },
  {
   "cell_type": "code",
   "execution_count": 44,
   "id": "5a9fad89",
   "metadata": {
    "ExecuteTime": {
     "end_time": "2021-06-07T17:57:03.972499Z",
     "start_time": "2021-06-07T17:57:03.314626Z"
    }
   },
   "outputs": [],
   "source": [
    "local_img = image.load_img(r\"trial_images\\no_1.jpg\", \n",
    "                        target_size=(150, 150))  "
   ]
  },
  {
   "cell_type": "code",
   "execution_count": 45,
   "id": "5520fdc2",
   "metadata": {
    "ExecuteTime": {
     "end_time": "2021-06-07T17:57:05.872144Z",
     "start_time": "2021-06-07T17:57:05.763992Z"
    }
   },
   "outputs": [],
   "source": [
    "local_img = image.img_to_array(local_img)\n",
    "local_img = tf.image.rgb_to_grayscale(local_img)\n",
    "local_img = np.expand_dims(local_img, axis=0)\n",
    "local_img = local_img/255.0\n",
    "prediction = model.predict(local_img)\n",
    "d = prediction.flatten()\n",
    "j = d.max()"
   ]
  },
  {
   "cell_type": "code",
   "execution_count": 46,
   "id": "4f1309a2",
   "metadata": {
    "ExecuteTime": {
     "end_time": "2021-06-07T17:57:09.418025Z",
     "start_time": "2021-06-07T17:57:09.403025Z"
    }
   },
   "outputs": [
    {
     "data": {
      "text/plain": [
       "array([[0.04923036, 0.37139606, 0.5540503 , 0.02532325]], dtype=float32)"
      ]
     },
     "execution_count": 46,
     "metadata": {},
     "output_type": "execute_result"
    }
   ],
   "source": [
    "prediction"
   ]
  },
  {
   "cell_type": "code",
   "execution_count": 47,
   "id": "17489953",
   "metadata": {
    "ExecuteTime": {
     "end_time": "2021-06-07T17:57:10.549691Z",
     "start_time": "2021-06-07T17:57:10.540583Z"
    }
   },
   "outputs": [],
   "source": [
    "for index,item in enumerate(d):\n",
    "    if item == j:\n",
    "        class_name = classes[index]"
   ]
  },
  {
   "cell_type": "code",
   "execution_count": 48,
   "id": "6ce406ab",
   "metadata": {
    "ExecuteTime": {
     "end_time": "2021-06-07T17:57:10.968427Z",
     "start_time": "2021-06-07T17:57:10.947943Z"
    }
   },
   "outputs": [
    {
     "data": {
      "text/plain": [
       "'no_tumor'"
      ]
     },
     "execution_count": 48,
     "metadata": {},
     "output_type": "execute_result"
    }
   ],
   "source": [
    "class_name"
   ]
  },
  {
   "cell_type": "code",
   "execution_count": null,
   "id": "9d00b7b3",
   "metadata": {},
   "outputs": [],
   "source": []
  }
 ],
 "metadata": {
  "kernelspec": {
   "display_name": "Python 3",
   "language": "python",
   "name": "python3"
  },
  "language_info": {
   "codemirror_mode": {
    "name": "ipython",
    "version": 3
   },
   "file_extension": ".py",
   "mimetype": "text/x-python",
   "name": "python",
   "nbconvert_exporter": "python",
   "pygments_lexer": "ipython3",
   "version": "3.7.0"
  }
 },
 "nbformat": 4,
 "nbformat_minor": 5
}
